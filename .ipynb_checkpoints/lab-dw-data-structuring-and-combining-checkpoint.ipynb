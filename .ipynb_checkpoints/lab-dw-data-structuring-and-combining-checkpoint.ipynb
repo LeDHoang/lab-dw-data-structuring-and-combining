{
 "cells": [
  {
   "cell_type": "markdown",
   "id": "25d7736c-ba17-4aff-b6bb-66eba20fbf4e",
   "metadata": {
    "id": "25d7736c-ba17-4aff-b6bb-66eba20fbf4e"
   },
   "source": [
    "# Lab | Data Structuring and Combining Data"
   ]
  },
  {
   "cell_type": "markdown",
   "id": "a2cdfc70-44c8-478c-81e7-2bc43fdf4986",
   "metadata": {
    "id": "a2cdfc70-44c8-478c-81e7-2bc43fdf4986"
   },
   "source": [
    "## Challenge 1: Combining & Cleaning Data\n",
    "\n",
    "In this challenge, we will be working with the customer data from an insurance company, as we did in the two previous labs. The data can be found here:\n",
    "- https://raw.githubusercontent.com/data-bootcamp-v4/data/main/file1.csv\n",
    "\n",
    "But this time, we got new data, which can be found in the following 2 CSV files located at the links below.\n",
    "\n",
    "- https://raw.githubusercontent.com/data-bootcamp-v4/data/main/file2.csv\n",
    "- https://raw.githubusercontent.com/data-bootcamp-v4/data/main/file3.csv\n",
    "\n",
    "Note that you'll need to clean and format the new data.\n",
    "\n",
    "Observation:\n",
    "- One option is to first combine the three datasets and then apply the cleaning function to the new combined dataset\n",
    "- Another option would be to read the clean file you saved in the previous lab, and just clean the two new files and concatenate the three clean datasets"
   ]
  },
  {
   "cell_type": "code",
   "execution_count": 6,
   "id": "492d06e3-92c7-4105-ac72-536db98d3244",
   "metadata": {
    "id": "492d06e3-92c7-4105-ac72-536db98d3244"
   },
   "outputs": [
    {
     "name": "stdout",
     "output_type": "stream",
     "text": [
      "Columns in File 1: Index(['Customer', 'ST', 'GENDER', 'Education', 'Customer Lifetime Value',\n",
      "       'Income', 'Monthly Premium Auto', 'Number of Open Complaints',\n",
      "       'Policy Type', 'Vehicle Class', 'Total Claim Amount'],\n",
      "      dtype='object')\n",
      "Columns in File 2: Index(['Customer', 'ST', 'GENDER', 'Education', 'Customer Lifetime Value',\n",
      "       'Income', 'Monthly Premium Auto', 'Number of Open Complaints',\n",
      "       'Total Claim Amount', 'Policy Type', 'Vehicle Class'],\n",
      "      dtype='object')\n",
      "Columns in File 3: Index(['Customer', 'State', 'Customer Lifetime Value', 'Education', 'Gender',\n",
      "       'Income', 'Monthly Premium Auto', 'Number of Open Complaints',\n",
      "       'Policy Type', 'Total Claim Amount', 'Vehicle Class'],\n",
      "      dtype='object')\n"
     ]
    }
   ],
   "source": [
    "import pandas as pd\n",
    "\n",
    "# Load the datasets\n",
    "file1 = pd.read_csv('https://raw.githubusercontent.com/data-bootcamp-v4/data/main/file1.csv')\n",
    "file2 = pd.read_csv('https://raw.githubusercontent.com/data-bootcamp-v4/data/main/file2.csv')\n",
    "file3 = pd.read_csv('https://raw.githubusercontent.com/data-bootcamp-v4/data/main/file3.csv')\n",
    "\n",
    "# Display the column names of each file\n",
    "print(\"Columns in File 1:\", file1.columns)\n",
    "print(\"Columns in File 2:\", file2.columns)\n",
    "print(\"Columns in File 3:\", file3.columns)\n"
   ]
  },
  {
   "cell_type": "code",
   "execution_count": 8,
   "id": "5cfec9df-89ac-4887-85f8-325820233caf",
   "metadata": {},
   "outputs": [
    {
     "name": "stdout",
     "output_type": "stream",
     "text": [
      "Cleaned columns1: Index(['customer', 'state', 'gender', 'education', 'customer_lifetime_value',\n",
      "       'income', 'monthly_premium_auto', 'number_of_open_complaints',\n",
      "       'policy_type', 'vehicle_class', 'total_claim_amount'],\n",
      "      dtype='object')\n",
      "Cleaned columns2: Index(['customer', 'state', 'gender', 'education', 'customer_lifetime_value',\n",
      "       'income', 'monthly_premium_auto', 'number_of_open_complaints',\n",
      "       'total_claim_amount', 'policy_type', 'vehicle_class'],\n",
      "      dtype='object')\n",
      "Cleaned columns3: Index(['customer', 'state', 'customer_lifetime_value', 'education', 'gender',\n",
      "       'income', 'monthly_premium_auto', 'number_of_open_complaints',\n",
      "       'policy_type', 'total_claim_amount', 'vehicle_class'],\n",
      "      dtype='object')\n"
     ]
    }
   ],
   "source": [
    "\n",
    "def clean_column_names(column_names):\n",
    "    # Make all characters lowercase and replace spaces with underscores\n",
    "    cleaned_names = column_names.str.lower().str.replace(' ', '_')\n",
    "    # Replace 'st' with 'state' only if the whole name is 'st'\n",
    "    cleaned_names = [name if name != 'st' else 'state' for name in cleaned_names]\n",
    "    return cleaned_names\n",
    "\n",
    "# Apply the function to the DataFrame's column names\n",
    "file1.columns = clean_column_names(file1.columns)\n",
    "file2.columns = clean_column_names(file2.columns)\n",
    "file3.columns = clean_column_names(file3.columns)\n",
    "\n",
    "print(\"Cleaned columns1:\", file1.columns)\n",
    "print(\"Cleaned columns2:\", file2.columns)\n",
    "print(\"Cleaned columns3:\", file3.columns)"
   ]
  },
  {
   "cell_type": "code",
   "execution_count": 10,
   "id": "62003806-bc01-4fe5-8a6b-9d43f6965e0c",
   "metadata": {},
   "outputs": [
    {
     "name": "stdout",
     "output_type": "stream",
     "text": [
      "   customer       state gender             education  customer_lifetime_value  \\\n",
      "0   RB50392  Washington    NaN                Master                      NaN   \n",
      "1   QZ44356     Arizona      F              Bachelor                697953.59   \n",
      "2   AI49188      Nevada      F              Bachelor               1288743.17   \n",
      "3   WW63253  California      M              Bachelor                764586.18   \n",
      "4   GA49547  Washington      M  High School or Below                536307.65   \n",
      "5   OC83172      Oregon      F              Bachelor                825629.78   \n",
      "6   XZ87318      Oregon      F               College                538089.86   \n",
      "7   CF85061     Arizona      M                Master                721610.03   \n",
      "8   DY87989      Oregon      M              Bachelor               2412750.40   \n",
      "9   BQ94931      Oregon      F               College                738817.81   \n",
      "10  SX51350  California      M               College                473899.20   \n",
      "11  VQ65197  California    NaN               College                819719.71   \n",
      "12  DP39365  California    NaN                Master                879879.70   \n",
      "13  SJ95423     Arizona    NaN  High School or Below                881901.89   \n",
      "14  IL66569  California    NaN               College                538443.17   \n",
      "15  BW63560      Oregon    NaN              Bachelor                746313.94   \n",
      "16  FV94802      Nevada    NaN  High School or Below                256686.78   \n",
      "17  OE15005  California    NaN               College                394524.16   \n",
      "18  WC83389      Oregon    NaN               College                571033.31   \n",
      "19  FL50705  California    NaN  High School or Below                816261.71   \n",
      "20  ZK25313      Oregon    NaN  High School or Below                287205.13   \n",
      "21  QK46697  Washington      M              Bachelor                617710.93   \n",
      "22  YH23384     Arizona    NaN              Bachelor               2412750.40   \n",
      "23  TZ98966      Nevada    NaN              Bachelor                245019.10   \n",
      "24  HM55802  California    NaN              Bachelor                239210.79   \n",
      "\n",
      "     income  monthly_premium_auto number_of_open_complaints     policy_type  \\\n",
      "0       0.0                1000.0                    1/0/00   Personal Auto   \n",
      "1       0.0                  94.0                    1/0/00   Personal Auto   \n",
      "2   48767.0                 108.0                    1/0/00   Personal Auto   \n",
      "3       0.0                 106.0                    1/0/00  Corporate Auto   \n",
      "4   36357.0                  68.0                    1/0/00   Personal Auto   \n",
      "5   62902.0                  69.0                    1/0/00   Personal Auto   \n",
      "6   55350.0                  67.0                    1/0/00  Corporate Auto   \n",
      "7       0.0                 101.0                    1/0/00  Corporate Auto   \n",
      "8   14072.0                  71.0                    1/0/00  Corporate Auto   \n",
      "9   28812.0                  93.0                    1/0/00    Special Auto   \n",
      "10      0.0                  67.0                    1/0/00   Personal Auto   \n",
      "11      0.0                 110.0                    1/0/00   Personal Auto   \n",
      "12  77026.0                 110.0                    1/2/00  Corporate Auto   \n",
      "13  99845.0                 110.0                    1/1/00  Corporate Auto   \n",
      "14  83689.0                  70.0                    1/2/00  Corporate Auto   \n",
      "15  24599.0                  64.0                    1/1/00  Corporate Auto   \n",
      "16  25049.0                  67.0                    1/0/00   Personal Auto   \n",
      "17  28855.0                 101.0                    1/0/00   Personal Auto   \n",
      "18  51148.0                  72.0                    1/0/00   Personal Auto   \n",
      "19  66140.0                 101.0                    1/0/00  Corporate Auto   \n",
      "20  57749.0                  74.0                    1/0/00   Personal Auto   \n",
      "21  61040.0                  79.0                    1/1/00   Personal Auto   \n",
      "22  14072.0                  71.0                    1/0/00   Personal Auto   \n",
      "23      0.0                  73.0                    1/3/00  Corporate Auto   \n",
      "24  17870.0                  61.0                    1/0/00  Corporate Auto   \n",
      "\n",
      "    vehicle_class  total_claim_amount  \n",
      "0   Four-Door Car            2.704934  \n",
      "1   Four-Door Car         1131.464935  \n",
      "2    Two-Door Car          566.472247  \n",
      "3             SUV          529.881344  \n",
      "4   Four-Door Car           17.269323  \n",
      "5    Two-Door Car          159.383042  \n",
      "6   Four-Door Car          321.600000  \n",
      "7   Four-Door Car          363.029680  \n",
      "8   Four-Door Car          511.200000  \n",
      "9   Four-Door Car          425.527834  \n",
      "10  Four-Door Car          482.400000  \n",
      "11            SUV          528.000000  \n",
      "12  Four-Door Car          472.029737  \n",
      "13            SUV          528.000000  \n",
      "14  Four-Door Car          307.139132  \n",
      "15  Four-Door Car           42.920271  \n",
      "16   Two-Door Car          454.245098  \n",
      "17            SUV          647.442031  \n",
      "18  Four-Door Car          308.981664  \n",
      "19  Four-Door Car          484.800000  \n",
      "20   Two-Door Car          355.200000  \n",
      "21   Two-Door Car           20.382876  \n",
      "22  Four-Door Car          511.200000  \n",
      "23  Four-Door Car          554.376763  \n",
      "24  Four-Door Car          439.200000  \n",
      "Index(['customer', 'state', 'gender', 'education', 'customer_lifetime_value',\n",
      "       'income', 'monthly_premium_auto', 'number_of_open_complaints',\n",
      "       'policy_type', 'vehicle_class', 'total_claim_amount'],\n",
      "      dtype='object')\n"
     ]
    }
   ],
   "source": [
    "standard_columns = ['customer', 'state', 'gender', 'education', 'customer_lifetime_value',\n",
    "                    'income', 'monthly_premium_auto', 'number_of_open_complaints',\n",
    "                    'policy_type', 'vehicle_class', 'total_claim_amount']\n",
    "# Reorder the columns in each dataframe\n",
    "file1 = file1[standard_columns]\n",
    "file2 = file2[standard_columns]\n",
    "file3 = file3[standard_columns]\n",
    "combined_data = pd.concat([file1, file2, file3], ignore_index=True)\n",
    "print(combined_data.head(25))\n",
    "print(combined_data.columns)\n"
   ]
  },
  {
   "cell_type": "code",
   "execution_count": 13,
   "id": "11f5c4b5-c2fd-4b05-a00a-dc17b7a7ecd6",
   "metadata": {},
   "outputs": [
    {
     "name": "stdout",
     "output_type": "stream",
     "text": [
      "   customer       state gender             education  customer_lifetime_value  \\\n",
      "0   RB50392  Washington    NaN                Master                     0.00   \n",
      "1   QZ44356     Arizona      F              Bachelor                697953.59   \n",
      "2   AI49188      Nevada      F              Bachelor               1288743.17   \n",
      "3   WW63253  California      M              Bachelor                764586.18   \n",
      "4   GA49547  Washington      M  High School or Below                536307.65   \n",
      "5   OC83172      Oregon      F              Bachelor                825629.78   \n",
      "6   XZ87318      Oregon      F               College                538089.86   \n",
      "7   CF85061     Arizona      M                Master                721610.03   \n",
      "8   DY87989      Oregon      M              Bachelor               2412750.40   \n",
      "9   BQ94931      Oregon      F               College                738817.81   \n",
      "10  SX51350  California      M               College                473899.20   \n",
      "11  VQ65197  California    NaN               College                819719.71   \n",
      "12  DP39365  California    NaN                Master                879879.70   \n",
      "13  SJ95423     Arizona    NaN  High School or Below                881901.89   \n",
      "14  IL66569  California    NaN               College                538443.17   \n",
      "15  BW63560      Oregon    NaN              Bachelor                746313.94   \n",
      "16  FV94802      Nevada    NaN  High School or Below                256686.78   \n",
      "17  OE15005  California    NaN               College                394524.16   \n",
      "18  WC83389      Oregon    NaN               College                571033.31   \n",
      "19  FL50705  California    NaN  High School or Below                816261.71   \n",
      "20  ZK25313      Oregon    NaN  High School or Below                287205.13   \n",
      "21  QK46697  Washington      M              Bachelor                617710.93   \n",
      "22  YH23384     Arizona    NaN              Bachelor               2412750.40   \n",
      "23  TZ98966      Nevada    NaN              Bachelor                245019.10   \n",
      "24  HM55802  California    NaN              Bachelor                239210.79   \n",
      "\n",
      "     income  monthly_premium_auto number_of_open_complaints     policy_type  \\\n",
      "0       0.0                1000.0                    1/0/00   Personal Auto   \n",
      "1       0.0                  94.0                    1/0/00   Personal Auto   \n",
      "2   48767.0                 108.0                    1/0/00   Personal Auto   \n",
      "3       0.0                 106.0                    1/0/00  Corporate Auto   \n",
      "4   36357.0                  68.0                    1/0/00   Personal Auto   \n",
      "5   62902.0                  69.0                    1/0/00   Personal Auto   \n",
      "6   55350.0                  67.0                    1/0/00  Corporate Auto   \n",
      "7       0.0                 101.0                    1/0/00  Corporate Auto   \n",
      "8   14072.0                  71.0                    1/0/00  Corporate Auto   \n",
      "9   28812.0                  93.0                    1/0/00    Special Auto   \n",
      "10      0.0                  67.0                    1/0/00   Personal Auto   \n",
      "11      0.0                 110.0                    1/0/00   Personal Auto   \n",
      "12  77026.0                 110.0                    1/2/00  Corporate Auto   \n",
      "13  99845.0                 110.0                    1/1/00  Corporate Auto   \n",
      "14  83689.0                  70.0                    1/2/00  Corporate Auto   \n",
      "15  24599.0                  64.0                    1/1/00  Corporate Auto   \n",
      "16  25049.0                  67.0                    1/0/00   Personal Auto   \n",
      "17  28855.0                 101.0                    1/0/00   Personal Auto   \n",
      "18  51148.0                  72.0                    1/0/00   Personal Auto   \n",
      "19  66140.0                 101.0                    1/0/00  Corporate Auto   \n",
      "20  57749.0                  74.0                    1/0/00   Personal Auto   \n",
      "21  61040.0                  79.0                    1/1/00   Personal Auto   \n",
      "22  14072.0                  71.0                    1/0/00   Personal Auto   \n",
      "23      0.0                  73.0                    1/3/00  Corporate Auto   \n",
      "24  17870.0                  61.0                    1/0/00  Corporate Auto   \n",
      "\n",
      "    vehicle_class  total_claim_amount  \n",
      "0   Four-Door Car            2.704934  \n",
      "1   Four-Door Car         1131.464935  \n",
      "2    Two-Door Car          566.472247  \n",
      "3             SUV          529.881344  \n",
      "4   Four-Door Car           17.269323  \n",
      "5    Two-Door Car          159.383042  \n",
      "6   Four-Door Car          321.600000  \n",
      "7   Four-Door Car          363.029680  \n",
      "8   Four-Door Car          511.200000  \n",
      "9   Four-Door Car          425.527834  \n",
      "10  Four-Door Car          482.400000  \n",
      "11            SUV          528.000000  \n",
      "12  Four-Door Car          472.029737  \n",
      "13            SUV          528.000000  \n",
      "14  Four-Door Car          307.139132  \n",
      "15  Four-Door Car           42.920271  \n",
      "16   Two-Door Car          454.245098  \n",
      "17            SUV          647.442031  \n",
      "18  Four-Door Car          308.981664  \n",
      "19  Four-Door Car          484.800000  \n",
      "20   Two-Door Car          355.200000  \n",
      "21   Two-Door Car           20.382876  \n",
      "22  Four-Door Car          511.200000  \n",
      "23  Four-Door Car          554.376763  \n",
      "24  Four-Door Car          439.200000  \n"
     ]
    }
   ],
   "source": [
    "# Your code here\n",
    "\n",
    "# Define functions for cleaning each specific column\n",
    "def standardize_gender(gender_series):\n",
    "    mappings = {'F': 'F', 'Female': 'F', 'Femal': 'F', 'M': 'M', 'Male': 'M', 'female': 'F'}\n",
    "    return gender_series.map(mappings)\n",
    "def replace_state_abbreviations(state_series):\n",
    "    state_mappings = {'AZ': 'Arizona', 'Cali': 'California', 'WA': 'Washington'}\n",
    "    return state_series.replace(state_mappings)\n",
    "def correct_education(education_series):\n",
    "    return education_series.replace({'Bachelors': 'Bachelor'})\n",
    "def remove_percentage(clv_series):\n",
    "    # Convert the series to string, replace the '%' sign, and then convert to float\n",
    "    return clv_series.astype(str).str.replace('%', '').astype(float)\n",
    "\n",
    "def consolidate_vehicle_classes(vehicle_series):\n",
    "    replacements = {'Sports Car': 'Luxury', 'Luxury SUV': 'Luxury', 'Luxury Car': 'Luxury'}\n",
    "    return vehicle_series.replace(replacements)\n",
    "# Apply cleaning functions to the dataframe\n",
    "combined_data['gender'] = standardize_gender(combined_data['gender'])\n",
    "combined_data['state'] = replace_state_abbreviations(combined_data['state'])\n",
    "combined_data['education'] = correct_education(combined_data['education'])\n",
    "combined_data['customer_lifetime_value'] = remove_percentage(combined_data['customer_lifetime_value'].fillna('0%'))\n",
    "combined_data['vehicle_class'] = consolidate_vehicle_classes(combined_data['vehicle_class'])\n",
    "\n",
    "print(combined_data.head(25))\n",
    "\n"
   ]
  },
  {
   "cell_type": "code",
   "execution_count": 14,
   "id": "88358955-b5c8-4840-ac08-c01bb3ff1ce9",
   "metadata": {},
   "outputs": [
    {
     "name": "stdout",
     "output_type": "stream",
     "text": [
      "customer                      object\n",
      "state                         object\n",
      "gender                        object\n",
      "education                     object\n",
      "customer_lifetime_value      float64\n",
      "income                       float64\n",
      "monthly_premium_auto         float64\n",
      "number_of_open_complaints      Int64\n",
      "policy_type                   object\n",
      "vehicle_class                 object\n",
      "total_claim_amount           float64\n",
      "dtype: object\n",
      "   customer       state gender             education  customer_lifetime_value  \\\n",
      "0   RB50392  Washington    NaN                Master                     0.00   \n",
      "1   QZ44356     Arizona      F              Bachelor                697953.59   \n",
      "2   AI49188      Nevada      F              Bachelor               1288743.17   \n",
      "3   WW63253  California      M              Bachelor                764586.18   \n",
      "4   GA49547  Washington      M  High School or Below                536307.65   \n",
      "5   OC83172      Oregon      F              Bachelor                825629.78   \n",
      "6   XZ87318      Oregon      F               College                538089.86   \n",
      "7   CF85061     Arizona      M                Master                721610.03   \n",
      "8   DY87989      Oregon      M              Bachelor               2412750.40   \n",
      "9   BQ94931      Oregon      F               College                738817.81   \n",
      "10  SX51350  California      M               College                473899.20   \n",
      "11  VQ65197  California    NaN               College                819719.71   \n",
      "12  DP39365  California    NaN                Master                879879.70   \n",
      "13  SJ95423     Arizona    NaN  High School or Below                881901.89   \n",
      "14  IL66569  California    NaN               College                538443.17   \n",
      "15  BW63560      Oregon    NaN              Bachelor                746313.94   \n",
      "16  FV94802      Nevada    NaN  High School or Below                256686.78   \n",
      "17  OE15005  California    NaN               College                394524.16   \n",
      "18  WC83389      Oregon    NaN               College                571033.31   \n",
      "19  FL50705  California    NaN  High School or Below                816261.71   \n",
      "20  ZK25313      Oregon    NaN  High School or Below                287205.13   \n",
      "21  QK46697  Washington      M              Bachelor                617710.93   \n",
      "22  YH23384     Arizona    NaN              Bachelor               2412750.40   \n",
      "23  TZ98966      Nevada    NaN              Bachelor                245019.10   \n",
      "24  HM55802  California    NaN              Bachelor                239210.79   \n",
      "\n",
      "     income  monthly_premium_auto  number_of_open_complaints     policy_type  \\\n",
      "0       0.0                1000.0                          0   Personal Auto   \n",
      "1       0.0                  94.0                          0   Personal Auto   \n",
      "2   48767.0                 108.0                          0   Personal Auto   \n",
      "3       0.0                 106.0                          0  Corporate Auto   \n",
      "4   36357.0                  68.0                          0   Personal Auto   \n",
      "5   62902.0                  69.0                          0   Personal Auto   \n",
      "6   55350.0                  67.0                          0  Corporate Auto   \n",
      "7       0.0                 101.0                          0  Corporate Auto   \n",
      "8   14072.0                  71.0                          0  Corporate Auto   \n",
      "9   28812.0                  93.0                          0    Special Auto   \n",
      "10      0.0                  67.0                          0   Personal Auto   \n",
      "11      0.0                 110.0                          0   Personal Auto   \n",
      "12  77026.0                 110.0                          2  Corporate Auto   \n",
      "13  99845.0                 110.0                          1  Corporate Auto   \n",
      "14  83689.0                  70.0                          2  Corporate Auto   \n",
      "15  24599.0                  64.0                          1  Corporate Auto   \n",
      "16  25049.0                  67.0                          0   Personal Auto   \n",
      "17  28855.0                 101.0                          0   Personal Auto   \n",
      "18  51148.0                  72.0                          0   Personal Auto   \n",
      "19  66140.0                 101.0                          0  Corporate Auto   \n",
      "20  57749.0                  74.0                          0   Personal Auto   \n",
      "21  61040.0                  79.0                          1   Personal Auto   \n",
      "22  14072.0                  71.0                          0   Personal Auto   \n",
      "23      0.0                  73.0                          3  Corporate Auto   \n",
      "24  17870.0                  61.0                          0  Corporate Auto   \n",
      "\n",
      "    vehicle_class  total_claim_amount  \n",
      "0   Four-Door Car            2.704934  \n",
      "1   Four-Door Car         1131.464935  \n",
      "2    Two-Door Car          566.472247  \n",
      "3             SUV          529.881344  \n",
      "4   Four-Door Car           17.269323  \n",
      "5    Two-Door Car          159.383042  \n",
      "6   Four-Door Car          321.600000  \n",
      "7   Four-Door Car          363.029680  \n",
      "8   Four-Door Car          511.200000  \n",
      "9   Four-Door Car          425.527834  \n",
      "10  Four-Door Car          482.400000  \n",
      "11            SUV          528.000000  \n",
      "12  Four-Door Car          472.029737  \n",
      "13            SUV          528.000000  \n",
      "14  Four-Door Car          307.139132  \n",
      "15  Four-Door Car           42.920271  \n",
      "16   Two-Door Car          454.245098  \n",
      "17            SUV          647.442031  \n",
      "18  Four-Door Car          308.981664  \n",
      "19  Four-Door Car          484.800000  \n",
      "20   Two-Door Car          355.200000  \n",
      "21   Two-Door Car           20.382876  \n",
      "22  Four-Door Car          511.200000  \n",
      "23  Four-Door Car          554.376763  \n",
      "24  Four-Door Car          439.200000  \n"
     ]
    }
   ],
   "source": [
    "# Function to clean and convert customer lifetime value\n",
    "def clean_customer_lifetime_value(clv_series):\n",
    "    # Ensure the data is in string format, remove any '%' characters, and convert to float\n",
    "    clv_series = clv_series.astype(str).replace('%', '', regex=True).astype(float)\n",
    "    return clv_series\n",
    "\n",
    "# Function to extract and convert number of open complaints\n",
    "def extract_open_complaints(complaints_series):\n",
    "    # Ensure the data is in string format, split the string, extract the middle value\n",
    "    complaints_series = complaints_series.astype(str).str.split('/').str[1]\n",
    "    # Convert the extracted strings to a numeric type, coercing errors to NaN\n",
    "    complaints_series = pd.to_numeric(complaints_series, errors='coerce').astype('Int64')\n",
    "    return complaints_series\n",
    "# Apply the cleaning functions\n",
    "combined_data['customer_lifetime_value'] = clean_customer_lifetime_value(combined_data['customer_lifetime_value'])\n",
    "combined_data['number_of_open_complaints'] = extract_open_complaints(combined_data['number_of_open_complaints'])\n",
    "\n",
    "# Output the cleaned data types and the first few rows to check the results\n",
    "print(combined_data.dtypes)\n",
    "print(combined_data.head(25))"
   ]
  },
  {
   "cell_type": "code",
   "execution_count": 18,
   "id": "57bbe0b6-6646-4535-8b29-8784ae1b0095",
   "metadata": {},
   "outputs": [
    {
     "name": "stdout",
     "output_type": "stream",
     "text": [
      "       customer  state  gender  education  customer_lifetime_value  income  \\\n",
      "0         False  False   False      False                    False   False   \n",
      "1         False  False   False      False                    False   False   \n",
      "2         False  False   False      False                    False   False   \n",
      "3         False  False   False      False                    False   False   \n",
      "4         False  False   False      False                    False   False   \n",
      "...         ...    ...     ...        ...                      ...     ...   \n",
      "12069     False  False   False      False                    False   False   \n",
      "12070     False  False   False      False                    False   False   \n",
      "12071     False  False   False      False                    False   False   \n",
      "12072     False  False   False      False                    False   False   \n",
      "12073     False  False   False      False                    False   False   \n",
      "\n",
      "       monthly_premium_auto  number_of_open_complaints  policy_type  \\\n",
      "0                     False                      False        False   \n",
      "1                     False                      False        False   \n",
      "2                     False                      False        False   \n",
      "3                     False                      False        False   \n",
      "4                     False                      False        False   \n",
      "...                     ...                        ...          ...   \n",
      "12069                 False                       True        False   \n",
      "12070                 False                       True        False   \n",
      "12071                 False                       True        False   \n",
      "12072                 False                       True        False   \n",
      "12073                 False                       True        False   \n",
      "\n",
      "       vehicle_class  total_claim_amount  \n",
      "0              False               False  \n",
      "1              False               False  \n",
      "2              False               False  \n",
      "3              False               False  \n",
      "4              False               False  \n",
      "...              ...                 ...  \n",
      "12069          False               False  \n",
      "12070          False               False  \n",
      "12071          False               False  \n",
      "12072          False               False  \n",
      "12073          False               False  \n",
      "\n",
      "[12074 rows x 11 columns]\n",
      "customer                      2937\n",
      "state                         2937\n",
      "gender                           0\n",
      "education                     2937\n",
      "customer_lifetime_value          0\n",
      "income                           0\n",
      "monthly_premium_auto          2937\n",
      "number_of_open_complaints    10007\n",
      "policy_type                   2937\n",
      "vehicle_class                 2937\n",
      "total_claim_amount            2937\n",
      "dtype: int64\n"
     ]
    }
   ],
   "source": [
    "# Fill missing values in 'gender' with the mode\n",
    "mode_gender = combined_data['gender'].mode()[0]\n",
    "combined_data['gender'] = combined_data['gender'].fillna(value=mode_gender)\n",
    "\n",
    "# Fill missing values in 'customer_lifetime_value' with the mean\n",
    "mean_customer_lifetime_value = combined_data['customer_lifetime_value'].mean()\n",
    "combined_data['customer_lifetime_value'] = combined_data['customer_lifetime_value'].fillna(value=mean_customer_lifetime_value)\n",
    "\n",
    "# Fill missing values in 'income' with the mean\n",
    "mean_income = combined_data['income'].mean()\n",
    "combined_data['income'] = combined_data['income'].fillna(value=mean_income)\n",
    "# Display the first 10 rows of the DataFrame to confirm changes\n",
    "combined_data.head(10)\n",
    "null_counts = combined_data.isnull().sum()\n",
    "print(combined_data.isnull())\n",
    "print(null_counts)"
   ]
  },
  {
   "cell_type": "code",
   "execution_count": 19,
   "id": "657f2e56-00af-42e6-a50d-31efc87e07a8",
   "metadata": {},
   "outputs": [
    {
     "name": "stdout",
     "output_type": "stream",
     "text": [
      "Number of duplicate rows: 2939\n",
      "Duplicates remaining: 0\n"
     ]
    }
   ],
   "source": [
    "# Your code here\n",
    "duplicates = combined_data.duplicated()\n",
    "print(\"Number of duplicate rows:\", duplicates.sum())\n",
    "# Drop duplicates, keeping only the first occurrence\n",
    "combined_data_clean = combined_data.drop_duplicates(keep='first')\n",
    "print(\"Duplicates remaining:\", combined_data_clean.duplicated().sum())\n"
   ]
  },
  {
   "cell_type": "markdown",
   "id": "31b8a9e7-7db9-4604-991b-ef6771603e57",
   "metadata": {
    "id": "31b8a9e7-7db9-4604-991b-ef6771603e57"
   },
   "source": [
    "# Challenge 2: Structuring Data"
   ]
  },
  {
   "cell_type": "markdown",
   "id": "a877fd6d-7a0c-46d2-9657-f25036e4ca4b",
   "metadata": {
    "id": "a877fd6d-7a0c-46d2-9657-f25036e4ca4b"
   },
   "source": [
    "In this challenge, we will continue to work with customer data from an insurance company, but we will use a dataset with more columns, called marketing_customer_analysis.csv, which can be found at the following link:\n",
    "\n",
    "https://raw.githubusercontent.com/data-bootcamp-v4/data/main/marketing_customer_analysis_clean.csv\n",
    "\n",
    "This dataset contains information such as customer demographics, policy details, vehicle information, and the customer's response to the last marketing campaign. Our goal is to explore and analyze this data by performing data cleaning, formatting, and structuring."
   ]
  },
  {
   "cell_type": "code",
   "execution_count": null,
   "id": "aa10d9b0-1c27-4d3f-a8e4-db6ab73bfd26",
   "metadata": {
    "id": "aa10d9b0-1c27-4d3f-a8e4-db6ab73bfd26"
   },
   "outputs": [],
   "source": [
    "# Your code goes here"
   ]
  },
  {
   "cell_type": "markdown",
   "id": "df35fd0d-513e-4e77-867e-429da10a9cc7",
   "metadata": {
    "id": "df35fd0d-513e-4e77-867e-429da10a9cc7"
   },
   "source": [
    "1. You work at the marketing department and you want to know which sales channel brought the most sales in terms of total revenue. Using pivot, create a summary table showing the total revenue for each sales channel (branch, call center, web, and mail).\n",
    "Round the total revenue to 2 decimal points.  Analyze the resulting table to draw insights."
   ]
  },
  {
   "cell_type": "markdown",
   "id": "640993b2-a291-436c-a34d-a551144f8196",
   "metadata": {
    "id": "640993b2-a291-436c-a34d-a551144f8196"
   },
   "source": [
    "2. Create a pivot table that shows the average customer lifetime value per gender and education level. Analyze the resulting table to draw insights."
   ]
  },
  {
   "cell_type": "markdown",
   "id": "32c7f2e5-3d90-43e5-be33-9781b6069198",
   "metadata": {
    "id": "32c7f2e5-3d90-43e5-be33-9781b6069198"
   },
   "source": [
    "## Bonus\n",
    "\n",
    "You work at the customer service department and you want to know which months had the highest number of complaints by policy type category. Create a summary table showing the number of complaints by policy type and month.\n",
    "Show it in a long format table."
   ]
  },
  {
   "cell_type": "markdown",
   "id": "e3d09a8f-953c-448a-a5f8-2e5a8cca7291",
   "metadata": {
    "id": "e3d09a8f-953c-448a-a5f8-2e5a8cca7291"
   },
   "source": [
    "*In data analysis, a long format table is a way of structuring data in which each observation or measurement is stored in a separate row of the table. The key characteristic of a long format table is that each column represents a single variable, and each row represents a single observation of that variable.*\n",
    "\n",
    "*More information about long and wide format tables here: https://www.statology.org/long-vs-wide-data/*"
   ]
  },
  {
   "cell_type": "code",
   "execution_count": null,
   "id": "3a069e0b-b400-470e-904d-d17582191be4",
   "metadata": {
    "id": "3a069e0b-b400-470e-904d-d17582191be4"
   },
   "outputs": [],
   "source": [
    "# Your code goes here"
   ]
  }
 ],
 "metadata": {
  "colab": {
   "provenance": []
  },
  "kernelspec": {
   "display_name": "Python 3 (ipykernel)",
   "language": "python",
   "name": "python3"
  },
  "language_info": {
   "codemirror_mode": {
    "name": "ipython",
    "version": 3
   },
   "file_extension": ".py",
   "mimetype": "text/x-python",
   "name": "python",
   "nbconvert_exporter": "python",
   "pygments_lexer": "ipython3",
   "version": "3.12.3"
  }
 },
 "nbformat": 4,
 "nbformat_minor": 5
}
